{
 "cells": [
  {
   "cell_type": "markdown",
   "id": "2f79007e",
   "metadata": {},
   "source": [
    "**The following tutorial demonstrates how to use EpiCarousel for identifying metacells in  a single-cell chromatin accessibility dataset of human bone marrow mononuclear cells [(Luecken, et al., 2021)](https://openreview.net/forum?id=gN35BGa1Rt).**\n",
    "\n",
    "\n"
   ]
  },
  {
   "cell_type": "markdown",
   "id": "aed71928",
   "metadata": {},
   "source": [
    "Import EpiCarousel."
   ]
  },
  {
   "cell_type": "code",
   "execution_count": 1,
   "id": "5eae6615",
   "metadata": {
    "ExecuteTime": {
     "end_time": "2023-08-29T00:35:08.384110Z",
     "start_time": "2023-08-29T00:35:06.185493Z"
    }
   },
   "outputs": [],
   "source": [
    "import epicarousel"
   ]
  },
  {
   "cell_type": "markdown",
   "id": "7b081dd3",
   "metadata": {},
   "source": [
    "Set a random seed to ensure reproducibility."
   ]
  },
  {
   "cell_type": "code",
   "execution_count": 2,
   "id": "7a3a3756",
   "metadata": {},
   "outputs": [],
   "source": [
    "epicarousel.core.setup_seed(1)"
   ]
  },
  {
   "cell_type": "code",
   "execution_count": 3,
   "id": "aca13c18",
   "metadata": {},
   "outputs": [],
   "source": [
    "# User specified parameters\n",
    "\n",
    "## Core parameters\n",
    "result_base = '/home/metacell/data/metacell/EpiCarousel/example'\n",
    "data_name = 'BMMC'\n",
    "data_dir = '/home/metacell/data/metacell/source_data/source_data_shuffled_seed_1/%s_shuffled.h5ad'%data_name\n",
    "if_bi = 1\n",
    "if_mc_bi = 1\n",
    "threshold = 0\n",
    "filter_rate = 0.01\n",
    "chunk_size = 10000\n",
    "carousel_resolution = 10\n",
    "step = 20\n",
    "threads=8\n",
    "mc_mode = 'average'\n",
    "index = 'cell_type'\n",
    "carousel = epicarousel.core.Carousel(data_name=data_name,\n",
    "                                     data_dir=data_dir,\n",
    "                                     if_bi=if_bi,\n",
    "                                     if_mc_bi=if_mc_bi,\n",
    "                                     threshold=threshold,\n",
    "                                     filter_rate=filter_rate,\n",
    "                                     chunk_size=chunk_size,\n",
    "                                     carousel_resolution=carousel_resolution,\n",
    "                                     base=result_base,\n",
    "                                     step=step,\n",
    "                                     threads=threads,\n",
    "                                     mc_mode=mc_mode,\n",
    "                                     index=index\n",
    "                                    )"
   ]
  },
  {
   "cell_type": "code",
   "execution_count": 4,
   "id": "b08ba113",
   "metadata": {},
   "outputs": [
    {
     "name": "stdout",
     "output_type": "stream",
     "text": [
      "Project output directory: /home/metacell/data/metacell/EpiCarousel/example/EpiCarousel_export\n"
     ]
    }
   ],
   "source": [
    "# Create output directories.\n",
    "carousel.make_dirs()"
   ]
  },
  {
   "cell_type": "code",
   "execution_count": 5,
   "id": "da81e948",
   "metadata": {},
   "outputs": [
    {
     "name": "stdout",
     "output_type": "stream",
     "text": [
      "Start spliting data!\n"
     ]
    },
    {
     "name": "stderr",
     "output_type": "stream",
     "text": [
      "7it [00:10,  1.47s/it]"
     ]
    },
    {
     "name": "stdout",
     "output_type": "stream",
     "text": [
      "Finish spliting data.\n"
     ]
    },
    {
     "name": "stderr",
     "output_type": "stream",
     "text": [
      "\n"
     ]
    }
   ],
   "source": [
    "# Partition the initial count matrix \n",
    "carousel.data_split()"
   ]
  },
  {
   "cell_type": "code",
   "execution_count": 6,
   "id": "385fcef2",
   "metadata": {
    "scrolled": false
   },
   "outputs": [
    {
     "name": "stdout",
     "output_type": "stream",
     "text": [
      "/prog/cabins/metacell/metacell/CAROUSEL/reproduction/EpiCarousel/EpiCarousel_modify_pca_float32_int8\n",
      "/home/metacell/.cache/Python-Eggs/epicarousel-0.0.1-py3.10.egg-tmp/epicarousel\n",
      "/home/metacell/.cache/Python-Eggs/epicarousel-0.0.1-py3.10.egg-tmp/epicarousel\n",
      "Start 1!\n",
      "Start 2!\n",
      "Start 3!\n",
      "Start 4!\n",
      "Start 5!\n",
      "Start 6!\n",
      "Start 7!\n",
      "AnnData object with n_obs × n_vars = 10000 × 66330\n",
      "    var: 'n_cells'\n",
      "    uns: 'pca', 'neighbors'\n",
      "    obsm: 'X_pca'\n",
      "    varm: 'PCs'\n",
      "    obsp: 'distances', 'connectivities'\n",
      "Finish 5!\n",
      "AnnData object with n_obs × n_vars = 10000 × 65143\n",
      "    var: 'n_cells'\n",
      "    uns: 'pca', 'neighbors'\n",
      "    obsm: 'X_pca'\n",
      "    varm: 'PCs'\n",
      "    obsp: 'distances', 'connectivities'\n",
      "Finish 3!\n",
      "AnnData object with n_obs × n_vars = 9249 × 65342\n",
      "    var: 'n_cells'\n",
      "    uns: 'pca', 'neighbors'\n",
      "    obsm: 'X_pca'\n",
      "    varm: 'PCs'\n",
      "    obsp: 'distances', 'connectivities'\n",
      "Finish 7!\n",
      "AnnData object with n_obs × n_vars = 10000 × 65467\n",
      "    var: 'n_cells'\n",
      "    uns: 'pca', 'neighbors'\n",
      "    obsm: 'X_pca'\n",
      "    varm: 'PCs'\n",
      "    obsp: 'distances', 'connectivities'\n",
      "Finish 4!\n",
      "AnnData object with n_obs × n_vars = 10000 × 65278\n",
      "    var: 'n_cells'\n",
      "    uns: 'pca', 'neighbors'\n",
      "    obsm: 'X_pca'\n",
      "    varm: 'PCs'\n",
      "    obsp: 'distances', 'connectivities'\n",
      "AnnData object with n_obs × n_vars = 10000 × 66467\n",
      "    var: 'n_cells'\n",
      "    uns: 'pca', 'neighbors'\n",
      "    obsm: 'X_pca'\n",
      "    varm: 'PCs'\n",
      "    obsp: 'distances', 'connectivities'\n",
      "Finish 1!\n",
      "AnnData object with n_obs × n_vars = 10000 × 65248\n",
      "    var: 'n_cells'\n",
      "    uns: 'pca', 'neighbors'\n",
      "    obsm: 'X_pca'\n",
      "    varm: 'PCs'\n",
      "    obsp: 'distances', 'connectivities'\n",
      "Finish 6!\n",
      "Finish 2!\n",
      "Begin time: 18:12.57\n",
      "Finish time: 18:22.45\n"
     ]
    }
   ],
   "source": [
    "# Identify metacells.\n",
    "carousel.identify_metacells()"
   ]
  },
  {
   "cell_type": "code",
   "execution_count": 7,
   "id": "6f8b5b86",
   "metadata": {},
   "outputs": [
    {
     "name": "stdout",
     "output_type": "stream",
     "text": [
      "Start aggregating metacells.\n"
     ]
    },
    {
     "name": "stderr",
     "output_type": "stream",
     "text": [
      "100%|█████████████████████████████████████████████████████████████| 6/6 [00:02<00:00,  2.69it/s]\n"
     ]
    },
    {
     "name": "stdout",
     "output_type": "stream",
     "text": [
      "Finish aggregating metacells.\n"
     ]
    },
    {
     "name": "stderr",
     "output_type": "stream",
     "text": [
      "... storing 'cells' as categorical\n"
     ]
    }
   ],
   "source": [
    "# Aggregate metcells from each chunk.\n",
    "carousel.merge_metacells()"
   ]
  },
  {
   "cell_type": "code",
   "execution_count": 8,
   "id": "7bfe7675",
   "metadata": {},
   "outputs": [
    {
     "name": "stdout",
     "output_type": "stream",
     "text": [
      "Start metacell preprocessing.\n",
      "AnnData object with n_obs × n_vars = 6924 × 92743\n",
      "    obs: 'which_fold', 'cells'\n",
      "    var: 'feature_types', 'name', 'n_cells'\n",
      "    uns: 'pca', 'neighbors'\n",
      "    obsm: 'X_pca'\n",
      "    varm: 'PCs'\n",
      "    obsp: 'distances', 'connectivities'\n",
      "Finish metacell preprocessing.\n"
     ]
    }
   ],
   "source": [
    "# Preprocess metacell-by-region matrix.\n",
    "carousel.metacell_preprocess()"
   ]
  },
  {
   "cell_type": "code",
   "execution_count": 9,
   "id": "ed5d39fe",
   "metadata": {
    "scrolled": false
   },
   "outputs": [
    {
     "name": "stdout",
     "output_type": "stream",
     "text": [
      "Start metacell clustering.\n",
      "      GEX_pct_counts_mt GEX_n_counts GEX_n_genes GEX_size_factors GEX_phase  \\\n",
      "0              0.431034       1624.0        1114         0.699399         S   \n",
      "1                   0.0       1520.0         987         0.397154       G2M   \n",
      "2              0.236726       2957.0        1477         0.831015       G2M   \n",
      "3                   0.0       1252.0         882         0.651727       G2M   \n",
      "4                   0.0        733.0         576         0.214664       G2M   \n",
      "...                 ...          ...         ...              ...       ...   \n",
      "69244          0.336323       1784.0        1252         1.438631         S   \n",
      "69245          0.120096       2498.0        1646         0.807992       G2M   \n",
      "69246          0.217297       2301.0        1384         0.636045       G2M   \n",
      "69247          0.230017       1739.0        1260         1.510654         S   \n",
      "69248          1.823708        658.0         518         0.220219         S   \n",
      "\n",
      "      ATAC_nCount_peaks ATAC_atac_fragments ATAC_reads_in_peaks_frac  \\\n",
      "0                1435.0                2100                 0.683333   \n",
      "1                3979.0                5557                 0.716034   \n",
      "2                2138.0                1925                 1.110649   \n",
      "3                9073.0               16890                 0.537182   \n",
      "4                1439.0                1104                 1.303442   \n",
      "...                 ...                 ...                      ...   \n",
      "69244           15986.0               26242                 0.609176   \n",
      "69245           12295.0               15669                  0.78467   \n",
      "69246           11962.0               28039                  0.42662   \n",
      "69247            3716.0                6056                 0.613606   \n",
      "69248            4300.0                5798                 0.741635   \n",
      "\n",
      "      ATAC_blacklist_fraction ATAC_nucleosome_signal  ... VendorLot DonorID  \\\n",
      "0                         0.0                    0.8  ...   3054129   10886   \n",
      "1                         0.0               0.868243  ...   3059371   28045   \n",
      "2                         0.0               0.978723  ...   3051683   12710   \n",
      "3                    0.002094               1.258648  ...   3054716   18303   \n",
      "4                     0.00139               0.797297  ...   3051683   12710   \n",
      "...                       ...                    ...  ...       ...     ...   \n",
      "69244                0.000563               1.029214  ...   3054455   15078   \n",
      "69245                0.000651               1.013788  ...   3054455   15078   \n",
      "69246                0.002174               1.974878  ...   3054455   15078   \n",
      "69247                     0.0               1.398017  ...   3054455   15078   \n",
      "69248                0.002791               0.645724  ...   3054455   15078   \n",
      "\n",
      "      DonorAge DonorBMI DonorBloodType   DonorRace               Ethnicity  \\\n",
      "0           35     28.6             B+       Asian  NOT HISPANIC OR LATINO   \n",
      "1           36     23.8             A+  Other Race      HISPANIC OR LATINO   \n",
      "2           27     32.1             O+       White  NOT HISPANIC OR LATINO   \n",
      "3           33     24.0             O+       Asian  NOT HISPANIC OR LATINO   \n",
      "4           27     32.1             O+       White  NOT HISPANIC OR LATINO   \n",
      "...        ...      ...            ...         ...                     ...   \n",
      "69244       34     24.8             B-       White      HISPANIC OR LATINO   \n",
      "69245       34     24.8             B-       White      HISPANIC OR LATINO   \n",
      "69246       34     24.8             B-       White      HISPANIC OR LATINO   \n",
      "69247       34     24.8             B-       White      HISPANIC OR LATINO   \n",
      "69248       34     24.8             B-       White      HISPANIC OR LATINO   \n",
      "\n",
      "      DonorGender QCMeds DonorSmoker  \n",
      "0          Female   True   Nonsmoker  \n",
      "1          Female  False   Nonsmoker  \n",
      "2            Male  False   Nonsmoker  \n",
      "3            Male  False      Smoker  \n",
      "4            Male  False   Nonsmoker  \n",
      "...           ...    ...         ...  \n",
      "69244        Male  False   Nonsmoker  \n",
      "69245        Male  False   Nonsmoker  \n",
      "69246        Male  False   Nonsmoker  \n",
      "69247        Male  False   Nonsmoker  \n",
      "69248        Male  False   Nonsmoker  \n",
      "\n",
      "[69249 rows x 28 columns]\n",
      "step 0\n",
      "got 38 at resolution 1.5\n",
      "step 1\n",
      "got 25 at resolution 0.75\n",
      "step 2\n",
      "got 14 at resolution 0.375\n",
      "step 3\n",
      "got 20 at resolution 0.5625\n",
      "step 4\n",
      "got 25 at resolution 0.65625\n",
      "step 5\n",
      "got 21 at resolution 0.609375\n",
      "step 6\n",
      "got 23 at resolution 0.6328125\n",
      "step 7\n",
      "got 23 at resolution 0.62109375\n",
      "step 8\n",
      "got 22 at resolution 0.615234375\n",
      "step 0\n",
      "got 29 at resolution 1.5\n",
      "step 1\n",
      "got 17 at resolution 0.75\n",
      "step 2\n",
      "got 23 at resolution 1.125\n",
      "step 3\n",
      "got 20 at resolution 0.9375\n",
      "step 4\n",
      "got 20 at resolution 1.03125\n",
      "step 5\n",
      "got 24 at resolution 1.078125\n",
      "step 6\n",
      "got 22 at resolution 1.0546875\n",
      "Finish metacell clustering.\n"
     ]
    }
   ],
   "source": [
    "# Cluster using Dleiden, Dlouvain, Cleiden and Clouvain clustering strategies.\n",
    "carousel.metacell_data_clustering()"
   ]
  },
  {
   "cell_type": "code",
   "execution_count": 10,
   "id": "8e036c61",
   "metadata": {},
   "outputs": [
    {
     "name": "stdout",
     "output_type": "stream",
     "text": [
      "AMI:0.690\tARI:0.564\tNMI:0.690\tHomo:0.693\tCS:0.687\tV-measure:0.690\tFMI:0.602\t\n",
      "AMI:0.666\tARI:0.486\tNMI:0.666\tHomo:0.711\tCS:0.627\tV-measure:0.666\tFMI:0.532\t\n",
      "AMI:0.687\tARI:0.521\tNMI:0.687\tHomo:0.700\tCS:0.675\tV-measure:0.687\tFMI:0.562\t\n",
      "AMI:0.676\tARI:0.473\tNMI:0.677\tHomo:0.694\tCS:0.660\tV-measure:0.677\tFMI:0.519\t\n"
     ]
    },
    {
     "name": "stderr",
     "output_type": "stream",
     "text": [
      "... storing 'mc_celltype' as categorical\n"
     ]
    },
    {
     "name": "stdout",
     "output_type": "stream",
     "text": [
      "   AMI_Dlouvain  ARI_Dlouvain  NMI_Dlouvain  Homo_Dlouvain  CS_Dlouvain  \\\n",
      "0      0.689653      0.564017      0.689989       0.693449     0.686564   \n",
      "\n",
      "   Vms_Dlouvain  FMI_Dlouvain  AMI_Dleiden  ARI_Dleiden  NMI_Dleiden  ...  \\\n",
      "0      0.689989      0.602216     0.665817     0.485746     0.666321  ...   \n",
      "\n",
      "   ARI_Cleiden  NMI_Cleiden  Homo_Cleiden  CS_Cleiden  Vms_Cleiden  \\\n",
      "0     0.473451     0.676535      0.693656    0.660239     0.676535   \n",
      "\n",
      "   FMI_Cleiden  origin_sparsity  carousel_sparsity  C-o_sparsity  C/o_sparsity  \n",
      "0     0.518872         0.030786           0.162832      0.132047       5.28923  \n",
      "\n",
      "[1 rows x 32 columns]\n"
     ]
    },
    {
     "data": {
      "text/html": [
       "<div>\n",
       "<style scoped>\n",
       "    .dataframe tbody tr th:only-of-type {\n",
       "        vertical-align: middle;\n",
       "    }\n",
       "\n",
       "    .dataframe tbody tr th {\n",
       "        vertical-align: top;\n",
       "    }\n",
       "\n",
       "    .dataframe thead th {\n",
       "        text-align: right;\n",
       "    }\n",
       "</style>\n",
       "<table border=\"1\" class=\"dataframe\">\n",
       "  <thead>\n",
       "    <tr style=\"text-align: right;\">\n",
       "      <th></th>\n",
       "      <th>AMI_Dlouvain</th>\n",
       "      <th>ARI_Dlouvain</th>\n",
       "      <th>NMI_Dlouvain</th>\n",
       "      <th>Homo_Dlouvain</th>\n",
       "      <th>CS_Dlouvain</th>\n",
       "      <th>Vms_Dlouvain</th>\n",
       "      <th>FMI_Dlouvain</th>\n",
       "      <th>AMI_Dleiden</th>\n",
       "      <th>ARI_Dleiden</th>\n",
       "      <th>NMI_Dleiden</th>\n",
       "      <th>...</th>\n",
       "      <th>ARI_Cleiden</th>\n",
       "      <th>NMI_Cleiden</th>\n",
       "      <th>Homo_Cleiden</th>\n",
       "      <th>CS_Cleiden</th>\n",
       "      <th>Vms_Cleiden</th>\n",
       "      <th>FMI_Cleiden</th>\n",
       "      <th>origin_sparsity</th>\n",
       "      <th>carousel_sparsity</th>\n",
       "      <th>C-o_sparsity</th>\n",
       "      <th>C/o_sparsity</th>\n",
       "    </tr>\n",
       "  </thead>\n",
       "  <tbody>\n",
       "    <tr>\n",
       "      <th>0</th>\n",
       "      <td>0.689653</td>\n",
       "      <td>0.564017</td>\n",
       "      <td>0.689989</td>\n",
       "      <td>0.693449</td>\n",
       "      <td>0.686564</td>\n",
       "      <td>0.689989</td>\n",
       "      <td>0.602216</td>\n",
       "      <td>0.665817</td>\n",
       "      <td>0.485746</td>\n",
       "      <td>0.666321</td>\n",
       "      <td>...</td>\n",
       "      <td>0.473451</td>\n",
       "      <td>0.676535</td>\n",
       "      <td>0.693656</td>\n",
       "      <td>0.660239</td>\n",
       "      <td>0.676535</td>\n",
       "      <td>0.518872</td>\n",
       "      <td>0.030786</td>\n",
       "      <td>0.162832</td>\n",
       "      <td>0.132047</td>\n",
       "      <td>5.28923</td>\n",
       "    </tr>\n",
       "  </tbody>\n",
       "</table>\n",
       "<p>1 rows × 32 columns</p>\n",
       "</div>"
      ],
      "text/plain": [
       "   AMI_Dlouvain  ARI_Dlouvain  NMI_Dlouvain  Homo_Dlouvain  CS_Dlouvain  \\\n",
       "0      0.689653      0.564017      0.689989       0.693449     0.686564   \n",
       "\n",
       "   Vms_Dlouvain  FMI_Dlouvain  AMI_Dleiden  ARI_Dleiden  NMI_Dleiden  ...  \\\n",
       "0      0.689989      0.602216     0.665817     0.485746     0.666321  ...   \n",
       "\n",
       "   ARI_Cleiden  NMI_Cleiden  Homo_Cleiden  CS_Cleiden  Vms_Cleiden  \\\n",
       "0     0.473451     0.676535      0.693656    0.660239     0.676535   \n",
       "\n",
       "   FMI_Cleiden  origin_sparsity  carousel_sparsity  C-o_sparsity  C/o_sparsity  \n",
       "0     0.518872         0.030786           0.162832      0.132047       5.28923  \n",
       "\n",
       "[1 rows x 32 columns]"
      ]
     },
     "execution_count": 10,
     "metadata": {},
     "output_type": "execute_result"
    }
   ],
   "source": [
    "carousel.result_comparison()"
   ]
  },
  {
   "cell_type": "code",
   "execution_count": 11,
   "id": "c96d7200",
   "metadata": {},
   "outputs": [],
   "source": [
    "# Removing intermediate files.\n",
    "carousel.delete_dirs()"
   ]
  },
  {
   "cell_type": "markdown",
   "id": "68993e16",
   "metadata": {},
   "source": [
    "**Metacells identified by EpiCarousel can be seamlessly integrated into widely used scCAS data analysis workflow using**"
   ]
  },
  {
   "cell_type": "code",
   "execution_count": 12,
   "id": "c092cf4e",
   "metadata": {},
   "outputs": [
    {
     "data": {
      "text/plain": [
       "AnnData object with n_obs × n_vars = 6924 × 92743\n",
       "    obs: 'which_fold', 'cells', 'Dleiden', 'Dlouvain', 'leiden', 'Cleiden', 'louvain', 'Clouvain', 'purity', 'mc_celltype'\n",
       "    var: 'feature_types', 'name', 'n_cells'\n",
       "    uns: 'pca', 'neighbors', 'leiden', 'louvain'\n",
       "    obsm: 'X_pca'\n",
       "    varm: 'PCs'\n",
       "    obsp: 'distances', 'connectivities'"
      ]
     },
     "execution_count": 12,
     "metadata": {},
     "output_type": "execute_result"
    }
   ],
   "source": [
    "carousel.mc_adata"
   ]
  },
  {
   "cell_type": "code",
   "execution_count": null,
   "id": "022ca1c1",
   "metadata": {},
   "outputs": [],
   "source": []
  },
  {
   "cell_type": "code",
   "execution_count": null,
   "id": "9ddefcbc",
   "metadata": {},
   "outputs": [],
   "source": []
  }
 ],
 "metadata": {
  "kernelspec": {
   "display_name": "Python [conda env:AESCell]",
   "language": "python",
   "name": "conda-env-AESCell-py"
  },
  "language_info": {
   "codemirror_mode": {
    "name": "ipython",
    "version": 3
   },
   "file_extension": ".py",
   "mimetype": "text/x-python",
   "name": "python",
   "nbconvert_exporter": "python",
   "pygments_lexer": "ipython3",
   "version": "3.10.9"
  },
  "toc": {
   "base_numbering": 1,
   "nav_menu": {
    "height": "207px",
    "width": "353px"
   },
   "number_sections": true,
   "sideBar": true,
   "skip_h1_title": false,
   "title_cell": "Table of Contents",
   "title_sidebar": "Contents",
   "toc_cell": false,
   "toc_position": {},
   "toc_section_display": true,
   "toc_window_display": false
  }
 },
 "nbformat": 4,
 "nbformat_minor": 5
}
